{
 "cells": [
  {
   "cell_type": "code",
   "execution_count": null,
   "metadata": {},
   "outputs": [],
   "source": [
    "JD_FOLDER_PATH = \"/home/ruchirich/Documents/repositories/career-ai/data/sample_jd\"\n",
    "\n",
    "# RecursiveCharacterTextSplitter\n",
    "CHUNK_SIZE = 1000\n",
    "CHUNK_OVERLAP = 200\n",
    "\n",
    "# OllamaEmbeddings\n",
    "MODEL = \"llama3.2\""
   ]
  },
  {
   "cell_type": "code",
   "execution_count": null,
   "metadata": {},
   "outputs": [],
   "source": [
    "from typing import List\n",
    "import os\n",
    "import getpass\n",
    "\n",
    "import dotenv\n",
    "dotenv.load_dotenv()\n",
    "\n",
    "# TODO: Fix langsmith tracing\n",
    "os.environ[\"LANGCHAIN_TRACING_V2\"] = \"true\"\n",
    "os.environ[\"LANGCHAIN_API_KEY\"] = getpass.getpass()\n",
    "\n",
    "os.environ[\"LANGSMITH_TRACING\"] = \"true\"\n",
    "os.environ[\"LANGSMITH_ENDPOINT\"] = \"https://api.smith.langchain.com\"\n",
    "os.environ[\"LANGSMITH_API_KEY\"] = getpass.getpass()\n",
    "os.environ[\"LANGSMITH_PROJECT\"] = \"career-ai\"\n"
   ]
  },
  {
   "cell_type": "code",
   "execution_count": null,
   "metadata": {},
   "outputs": [],
   "source": [
    "from langchain_core.prompts import ChatPromptTemplate\n",
    "\n",
    "# 1. load document, prep model-readable text\n",
    "from langchain_core.documents import Document\n",
    "from langchain_community.document_loaders.pdf import PyPDFLoader\n",
    "\n",
    "# 2. text splitter, break docs into smaller chunks (better for indexing and model context size)\n",
    "from langchain_text_splitters.character import RecursiveCharacterTextSplitter\n",
    "\n",
    "# 3.1 embedding, converts text to vectors\n",
    "from langchain_ollama.embeddings import OllamaEmbeddings\n",
    "# 3.2 vectorstore, store the vectors( try out a better option MongoDB, Pinecone, Chroma)\n",
    "from langchain_core.vectorstores import (\n",
    "    InMemoryVectorStore,\n",
    "    VectorStore # for type hinting\n",
    "    )\n",
    "# 4.1 RAG: retrieve, use VectorStore.as_retriever() function\n",
    "# 4.2 RAG: generate\n",
    "from langchain import hub # prompt templates available on langchain hub\n",
    "from langchain_ollama.chat_models import ChatOllama\n",
    "\n",
    "# 5. Parse output\n",
    "from langchain_core.output_parsers.string import StrOutputParser\n",
    "from langchain_core.runnables.passthrough import RunnablePassthrough"
   ]
  },
  {
   "cell_type": "markdown",
   "metadata": {},
   "source": [
    "[ref](https://diptimanrc.medium.com/rapid-q-a-on-multiple-pdfs-using-langchain-and-chromadb-as-local-disk-vector-store-60678328c0df)"
   ]
  },
  {
   "cell_type": "code",
   "execution_count": null,
   "metadata": {},
   "outputs": [],
   "source": [
    "def load_split_store() -> VectorStore:\n",
    "    \"\"\"\n",
    "    Load PDF's into a vectorstore.\n",
    "    Documents are chunks of pdf's\n",
    "    \"\"\"\n",
    "\n",
    "    documents: List[Document] = []\n",
    "\n",
    "    # load\n",
    "    for file in os.listdir(JD_FOLDER_PATH):\n",
    "        file_path = os.path.join(JD_FOLDER_PATH, file)\n",
    "        loader = PyPDFLoader(\n",
    "            file_path=file_path\n",
    "        )\n",
    "\n",
    "        documents.extend(loader.load())\n",
    "    \n",
    "    # split / chunk docs\n",
    "    text_splitter = RecursiveCharacterTextSplitter(\n",
    "        chunk_size=CHUNK_SIZE,\n",
    "        chunk_overlap=CHUNK_OVERLAP,\n",
    "        add_start_index=True # metadata for the start character of chunk within the pdf being chunked\n",
    "    )\n",
    "\n",
    "    chunked_docs = text_splitter.split_documents(\n",
    "        documents=documents\n",
    "    )\n",
    "\n",
    "    # store in vectorsore\n",
    "    embedding_model = OllamaEmbeddings(\n",
    "        model=MODEL\n",
    "    )\n",
    "\n",
    "    vectorstore = InMemoryVectorStore.from_documents(\n",
    "        documents=chunked_docs,\n",
    "        embedding=embedding_model\n",
    "    )\n",
    "\n",
    "    return vectorstore"
   ]
  },
  {
   "cell_type": "code",
   "execution_count": null,
   "metadata": {},
   "outputs": [],
   "source": [
    "retriever = load_split_store().as_retriever(\n",
    "    search_type=\"similarity\",\n",
    "    search_kwargs={\"k\": 6}\n",
    "    )"
   ]
  },
  {
   "cell_type": "markdown",
   "metadata": {},
   "source": [
    "## sample retrievals"
   ]
  },
  {
   "cell_type": "code",
   "execution_count": null,
   "metadata": {},
   "outputs": [],
   "source": [
    "retriever.invoke(\n",
    "    input=\"What are some data scientist applications I submitted in the past\"\n",
    ")[:3]"
   ]
  },
  {
   "cell_type": "code",
   "execution_count": null,
   "metadata": {},
   "outputs": [],
   "source": [
    "retriever.invoke(\n",
    "    input=\"What job posting required an experience in AI and LLM\"\n",
    ")[:3]"
   ]
  },
  {
   "cell_type": "code",
   "execution_count": null,
   "metadata": {},
   "outputs": [],
   "source": [
    "retriever.invoke(\n",
    "    input=\"What applications did I make at a banking or financial services company\"\n",
    ")[:3]"
   ]
  },
  {
   "cell_type": "markdown",
   "metadata": {},
   "source": [
    "## Prompt"
   ]
  },
  {
   "cell_type": "code",
   "execution_count": null,
   "metadata": {},
   "outputs": [],
   "source": [
    "prompt = hub.pull(\"rlm/rag-prompt\")"
   ]
  },
  {
   "cell_type": "markdown",
   "metadata": {},
   "source": [
    "the prompt template requires two inputs:\n",
    "\n",
    "1. context\n",
    "2. question\n"
   ]
  },
  {
   "cell_type": "code",
   "execution_count": null,
   "metadata": {},
   "outputs": [],
   "source": [
    "example_message = prompt.invoke(\n",
    "    input={\"context\": \"filler context\", \"question\": \"filler question\"}\n",
    ").to_messages()\n",
    "\n",
    "print(example_message[0].content)"
   ]
  },
  {
   "cell_type": "markdown",
   "metadata": {},
   "source": [
    "## Generate"
   ]
  },
  {
   "cell_type": "code",
   "execution_count": null,
   "metadata": {},
   "outputs": [],
   "source": [
    "llm = ChatOllama(\n",
    "    model=MODEL\n",
    ")"
   ]
  },
  {
   "cell_type": "markdown",
   "metadata": {},
   "source": [
    "## Chain\n",
    "\n",
    "Chain will:\n",
    "\n",
    "1. take a question\n",
    "2. retrieve relevant documents\n",
    "3. construct a prompt\n",
    "4. pass prompt to the model\n",
    "5. parse output"
   ]
  },
  {
   "cell_type": "markdown",
   "metadata": {},
   "source": [
    "Finna put the chain in langchain\n",
    "\n",
    "what we want: an easy syntax to create a pipeline of functions in a RAG application\n",
    "\n",
    "how langchain does it: LangChain Expression Language (LCEL)\n",
    "\n",
    "what else does it help with: observability of the chain on LangSmith"
   ]
  },
  {
   "cell_type": "code",
   "execution_count": null,
   "metadata": {},
   "outputs": [],
   "source": [
    "def format_docs(docs):\n",
    "    return \"\\n\\n\".join(doc.page_content for doc in docs)"
   ]
  },
  {
   "cell_type": "code",
   "execution_count": null,
   "metadata": {},
   "outputs": [],
   "source": [
    "rag_chain = (\n",
    "    {\"context\": retriever | format_docs, \"question\": RunnablePassthrough()} # prepares the two inputs for prompt template\n",
    "    | prompt # creates a PromptMessage ready for LLM\n",
    "    | llm # inference\n",
    "    | StrOutputParser() # just plucks the string content out of the LLM's output message\n",
    ")"
   ]
  },
  {
   "cell_type": "code",
   "execution_count": null,
   "metadata": {},
   "outputs": [],
   "source": [
    "def get_model_output():\n",
    "    answer = rag_chain.invoke(\"What is the major diffference between data analyst and data scientist?\")\n",
    "    return answer"
   ]
  },
  {
   "cell_type": "code",
   "execution_count": null,
   "metadata": {},
   "outputs": [],
   "source": [
    "import streamlit as st\n",
    "\n",
    "st.set_page_config(\n",
    "    page_title=\"career-ai\",\n",
    "    page_icon=\":computer:\"\n",
    ")\n",
    "\n",
    "st.header(\"What's on your mind?\")\n",
    "form_input = st.text_input(\"Enter query\")\n",
    "submit = st.button(\"Generate\")\n",
    "\n",
    "if submit:\n",
    "    st.write(get_model_output())"
   ]
  },
  {
   "cell_type": "code",
   "execution_count": null,
   "metadata": {},
   "outputs": [],
   "source": [
    "rag_chain.get_graph().print_ascii()"
   ]
  },
  {
   "cell_type": "code",
   "execution_count": null,
   "metadata": {},
   "outputs": [],
   "source": []
  }
 ],
 "metadata": {
  "kernelspec": {
   "display_name": "genAI",
   "language": "python",
   "name": "python3"
  },
  "language_info": {
   "codemirror_mode": {
    "name": "ipython",
    "version": 3
   },
   "file_extension": ".py",
   "mimetype": "text/x-python",
   "name": "python",
   "nbconvert_exporter": "python",
   "pygments_lexer": "ipython3",
   "version": "3.12.9"
  }
 },
 "nbformat": 4,
 "nbformat_minor": 2
}
